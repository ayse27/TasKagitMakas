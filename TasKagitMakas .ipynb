{
 "cells": [
  {
   "cell_type": "code",
   "execution_count": null,
   "id": "3a4f5c3b-db25-43e7-9db3-a4ce4eae322b",
   "metadata": {},
   "outputs": [
    {
     "name": "stdout",
     "output_type": "stream",
     "text": [
      "Taş-Kağıt-Makas Oyununa Hoş Geldiniz!\n",
      "Kurallar: Taş > Makas, Makas > Kağıt, Kağıt > Taş\n",
      "Oyundan çıkmak için 'q' tuşuna basabilirsiniz.\n"
     ]
    },
    {
     "name": "stdin",
     "output_type": "stream",
     "text": [
      "\n",
      "Seçiminizi yapın (taş, kağıt, makas):  taş\n"
     ]
    },
    {
     "name": "stdout",
     "output_type": "stream",
     "text": [
      "Bilgisayarın seçimi: kağıt\n",
      "Maalesef kaybettiniz.\n"
     ]
    }
   ],
   "source": [
    "import random\n",
    "\n",
    "def tas_kagit_makas_oyunu():\n",
    "    print(\"Taş-Kağıt-Makas Oyununa Hoş Geldiniz!\")\n",
    "    print(\"Kurallar: Taş > Makas, Makas > Kağıt, Kağıt > Taş\")\n",
    "    print(\"Oyundan çıkmak için 'q' tuşuna basabilirsiniz.\")\n",
    "\n",
    "    # Olası seçimler\n",
    "    secenekler = [\"taş\", \"kağıt\", \"makas\"]\n",
    "\n",
    "    while True:\n",
    "        # Kullanıcıdan seçim al\n",
    "        kullanici_secimi = input(\"\\nSeçiminizi yapın (taş, kağıt, makas): \").lower()\n",
    "\n",
    "        if kullanici_secimi == 'q':\n",
    "            print(\"Oyun sona erdi. Tekrar görüşmek üzere!\")\n",
    "            break\n",
    "\n",
    "        if kullanici_secimi not in secenekler:\n",
    "            print(\"Geçersiz seçim. Lütfen 'taş', 'kağıt' veya 'makas' yazın.\")\n",
    "            continue\n",
    "\n",
    "        # Bilgisayarın rastgele seçimi\n",
    "        bilgisayar_secimi = random.choice(secenekler)\n",
    "\n",
    "        print(f\"Bilgisayarın seçimi: {bilgisayar_secimi}\")\n",
    "\n",
    "        # Sonuç hesaplama\n",
    "        if kullanici_secimi == bilgisayar_secimi:\n",
    "            print(\"Berabere!\")\n",
    "        elif (kullanici_secimi == \"taş\" and bilgisayar_secimi == \"makas\") or \\\n",
    "             (kullanici_secimi == \"kağıt\" and bilgisayar_secimi == \"taş\") or \\\n",
    "             (kullanici_secimi == \"makas\" and bilgisayar_secimi == \"kağıt\"):\n",
    "            print(\"Tebrikler, kazandınız!\")\n",
    "        else:\n",
    "            print(\"Maalesef kaybettiniz.\")\n",
    "\n",
    "# Oyunu başlat\n",
    "if __name__ == \"__main__\":\n",
    "    tas_kagit_makas_oyunu()\n"
   ]
  },
  {
   "cell_type": "code",
   "execution_count": null,
   "id": "f7cc5fd7-a28d-4876-8f91-7cf97f234361",
   "metadata": {},
   "outputs": [],
   "source": []
  }
 ],
 "metadata": {
  "kernelspec": {
   "display_name": "Python 3 (ipykernel)",
   "language": "python",
   "name": "python3"
  },
  "language_info": {
   "codemirror_mode": {
    "name": "ipython",
    "version": 3
   },
   "file_extension": ".py",
   "mimetype": "text/x-python",
   "name": "python",
   "nbconvert_exporter": "python",
   "pygments_lexer": "ipython3",
   "version": "3.12.7"
  }
 },
 "nbformat": 4,
 "nbformat_minor": 5
}
