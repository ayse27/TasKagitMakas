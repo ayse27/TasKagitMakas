{
 "cells": [
  {
   "cell_type": "code",
   "execution_count": null,
   "id": "3a4f5c3b-db25-43e7-9db3-a4ce4eae322b",
   "metadata": {},
   "outputs": [],
   "source": []
  }
 ],
 "metadata": {
  "kernelspec": {
   "display_name": "",
   "name": ""
  },
  "language_info": {
   "name": ""
  }
 },
 "nbformat": 4,
 "nbformat_minor": 5
}
